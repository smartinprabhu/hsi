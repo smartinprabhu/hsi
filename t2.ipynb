{
 "cells": [
  {
   "cell_type": "markdown",
   "metadata": {},
   "source": [
    "# Linear Regression Model Training \n",
    "\n",
    "## Overview\n",
    "\n",
    "This script performs training of a linear regression model to predict energy consumption based on extracted features from a dataset containing timestamps and energy consumption records."
   ]
  },
  {
   "cell_type": "markdown",
   "metadata": {},
   "source": [
    "- The script demonstrates the entire process of training a linear regression model for energy consumption prediction, from data loading and preprocessing to model evaluation and saving.\n",
    "- It utilizes popular libraries such as pandas, scikit-learn, and joblib to streamline various tasks involved in machine learning model training.\n",
    "- The use of train-test splitting helps to assess the model's generalization performance and detect overfitting.\n",
    "- Evaluation metrics such as MSE and MAE provide insights into the model's accuracy and are essential for model selection and tuning.\n",
    "- Saving the trained model allows for easy reuse and deployment in production environments."
   ]
  },
  {
   "cell_type": "markdown",
   "metadata": {},
   "source": [
    "## Dependencies\n",
    "\n",
    "- **pandas**: A powerful data manipulation library used to load and preprocess the dataset.\n",
    "- **sklearn**: A machine learning library providing tools for model selection, training, and evaluation.\n",
    "- **matplotlib**: A plotting library used to visualize the evaluation metrics."
   ]
  },
  {
   "cell_type": "code",
   "execution_count": 14,
   "metadata": {},
   "outputs": [],
   "source": [
    "import pandas as pd\n",
    "from sklearn.model_selection import train_test_split\n",
    "from sklearn.linear_model import LinearRegression\n",
    "from sklearn.metrics import mean_squared_error, mean_absolute_error\n",
    "import matplotlib.pyplot as plt"
   ]
  },
  {
   "cell_type": "markdown",
   "metadata": {},
   "source": [
    "1. **Load Dataset**: \n",
    "- The script loads the dataset containing energy consumption records from the Excel file `new_data.xlsx` using the `pd.read_excel()` function. This dataset serves as the basis for training the linear regression model.\n",
    "\n"
   ]
  },
  {
   "cell_type": "code",
   "execution_count": 15,
   "metadata": {},
   "outputs": [],
   "source": [
    "# Load the dataset\n",
    "df = pd.read_excel(\"new_data.xlsx\")"
   ]
  },
  {
   "cell_type": "code",
   "execution_count": 16,
   "metadata": {},
   "outputs": [
    {
     "data": {
      "text/html": [
       "<div>\n",
       "<style scoped>\n",
       "    .dataframe tbody tr th:only-of-type {\n",
       "        vertical-align: middle;\n",
       "    }\n",
       "\n",
       "    .dataframe tbody tr th {\n",
       "        vertical-align: top;\n",
       "    }\n",
       "\n",
       "    .dataframe thead th {\n",
       "        text-align: right;\n",
       "    }\n",
       "</style>\n",
       "<table border=\"1\" class=\"dataframe\">\n",
       "  <thead>\n",
       "    <tr style=\"text-align: right;\">\n",
       "      <th></th>\n",
       "      <th>Timestamp</th>\n",
       "      <th>Answer Value first</th>\n",
       "      <th>Answer Value last</th>\n",
       "      <th>Equipment SNO first</th>\n",
       "      <th>Asset Number first</th>\n",
       "      <th>Reading Name first</th>\n",
       "      <th>Is Error Set? first</th>\n",
       "      <th>Is Error Code? first</th>\n",
       "      <th>Asset first</th>\n",
       "      <th>Company first</th>\n",
       "      <th>Energy Consumption (kWh)</th>\n",
       "    </tr>\n",
       "  </thead>\n",
       "  <tbody>\n",
       "    <tr>\n",
       "      <th>0</th>\n",
       "      <td>2024-01-01 00:00:00</td>\n",
       "      <td>54199.73</td>\n",
       "      <td>54199.79</td>\n",
       "      <td>68B6B34180C8-3</td>\n",
       "      <td>FSCHN-E-00001</td>\n",
       "      <td>activeenergydla</td>\n",
       "      <td>0.0</td>\n",
       "      <td>NaN</td>\n",
       "      <td>AHU DB</td>\n",
       "      <td>Chennai – Bayline</td>\n",
       "      <td>0.06</td>\n",
       "    </tr>\n",
       "    <tr>\n",
       "      <th>1</th>\n",
       "      <td>2024-01-01 01:00:00</td>\n",
       "      <td>54199.80</td>\n",
       "      <td>54199.91</td>\n",
       "      <td>68B6B34180C8-3</td>\n",
       "      <td>FSCHN-E-00001</td>\n",
       "      <td>activeenergydla</td>\n",
       "      <td>0.0</td>\n",
       "      <td>NaN</td>\n",
       "      <td>AHU DB</td>\n",
       "      <td>Chennai – Bayline</td>\n",
       "      <td>0.11</td>\n",
       "    </tr>\n",
       "    <tr>\n",
       "      <th>2</th>\n",
       "      <td>2024-01-01 02:00:00</td>\n",
       "      <td>54199.92</td>\n",
       "      <td>54200.03</td>\n",
       "      <td>68B6B34180C8-3</td>\n",
       "      <td>FSCHN-E-00001</td>\n",
       "      <td>activeenergydla</td>\n",
       "      <td>0.0</td>\n",
       "      <td>NaN</td>\n",
       "      <td>AHU DB</td>\n",
       "      <td>Chennai – Bayline</td>\n",
       "      <td>0.11</td>\n",
       "    </tr>\n",
       "    <tr>\n",
       "      <th>3</th>\n",
       "      <td>2024-01-01 03:00:00</td>\n",
       "      <td>54200.04</td>\n",
       "      <td>54200.16</td>\n",
       "      <td>68B6B34180C8-3</td>\n",
       "      <td>FSCHN-E-00001</td>\n",
       "      <td>activeenergydla</td>\n",
       "      <td>0.0</td>\n",
       "      <td>NaN</td>\n",
       "      <td>AHU DB</td>\n",
       "      <td>Chennai – Bayline</td>\n",
       "      <td>0.12</td>\n",
       "    </tr>\n",
       "    <tr>\n",
       "      <th>4</th>\n",
       "      <td>2024-01-01 04:00:00</td>\n",
       "      <td>54200.17</td>\n",
       "      <td>54200.29</td>\n",
       "      <td>68B6B34180C8-3</td>\n",
       "      <td>FSCHN-E-00001</td>\n",
       "      <td>activeenergydla</td>\n",
       "      <td>0.0</td>\n",
       "      <td>NaN</td>\n",
       "      <td>AHU DB</td>\n",
       "      <td>Chennai – Bayline</td>\n",
       "      <td>0.12</td>\n",
       "    </tr>\n",
       "  </tbody>\n",
       "</table>\n",
       "</div>"
      ],
      "text/plain": [
       "            Timestamp  Answer Value first  Answer Value last   \n",
       "0 2024-01-01 00:00:00            54199.73           54199.79  \\\n",
       "1 2024-01-01 01:00:00            54199.80           54199.91   \n",
       "2 2024-01-01 02:00:00            54199.92           54200.03   \n",
       "3 2024-01-01 03:00:00            54200.04           54200.16   \n",
       "4 2024-01-01 04:00:00            54200.17           54200.29   \n",
       "\n",
       "  Equipment SNO first Asset Number first Reading Name first   \n",
       "0      68B6B34180C8-3      FSCHN-E-00001    activeenergydla  \\\n",
       "1      68B6B34180C8-3      FSCHN-E-00001    activeenergydla   \n",
       "2      68B6B34180C8-3      FSCHN-E-00001    activeenergydla   \n",
       "3      68B6B34180C8-3      FSCHN-E-00001    activeenergydla   \n",
       "4      68B6B34180C8-3      FSCHN-E-00001    activeenergydla   \n",
       "\n",
       "   Is Error Set? first  Is Error Code? first Asset first      Company first   \n",
       "0                  0.0                   NaN      AHU DB  Chennai – Bayline  \\\n",
       "1                  0.0                   NaN      AHU DB  Chennai – Bayline   \n",
       "2                  0.0                   NaN      AHU DB  Chennai – Bayline   \n",
       "3                  0.0                   NaN      AHU DB  Chennai – Bayline   \n",
       "4                  0.0                   NaN      AHU DB  Chennai – Bayline   \n",
       "\n",
       "   Energy Consumption (kWh)  \n",
       "0                      0.06  \n",
       "1                      0.11  \n",
       "2                      0.11  \n",
       "3                      0.12  \n",
       "4                      0.12  "
      ]
     },
     "execution_count": 16,
     "metadata": {},
     "output_type": "execute_result"
    }
   ],
   "source": [
    "df.head()"
   ]
  },
  {
   "cell_type": "markdown",
   "metadata": {},
   "source": [
    "2. **Data Preprocessing**: \n",
    "- The script converts the 'Timestamp' column to datetime format using the `pd.to_datetime()` function. \n",
    "\n",
    "- It then extracts relevant features such as year, month, day, hour, minute, and second from the timestamp using pandas' datetime properties (`dt.year`, `dt.month`, `dt.day`, `dt.hour`, `dt.minute`, `dt.second`)."
   ]
  },
  {
   "cell_type": "code",
   "execution_count": 17,
   "metadata": {},
   "outputs": [],
   "source": [
    "\n",
    "# Convert the 'Timestamp' column to datetime format\n",
    "df['Timestamp'] = pd.to_datetime(df['Timestamp'])"
   ]
  },
  {
   "cell_type": "code",
   "execution_count": 18,
   "metadata": {},
   "outputs": [],
   "source": [
    "\n",
    "# Extract relevant features from the timestamp\n",
    "df['Year'] = df['Timestamp'].dt.year\n",
    "df['Month'] = df['Timestamp'].dt.month\n",
    "df['Day'] = df['Timestamp'].dt.day\n",
    "df['Hour'] = df['Timestamp'].dt.hour\n",
    "df['Minute'] = df['Timestamp'].dt.minute\n",
    "df['Second'] = df['Timestamp'].dt.second"
   ]
  },
  {
   "cell_type": "markdown",
   "metadata": {},
   "source": [
    "3. **Feature Selection**: \n",
    " - Extracted features are used as input features (X) for training the linear regression model, while the 'Energy Consumption (kWh)' column serves as the target variable (y)."
   ]
  },
  {
   "cell_type": "code",
   "execution_count": 19,
   "metadata": {},
   "outputs": [],
   "source": [
    "# Feature Selection\n",
    "\n",
    "# Use the extracted features as input features\n",
    "X = df[['Year', 'Month', 'Day', 'Hour', 'Minute', 'Second']]\n",
    "y = df['Energy Consumption (kWh)']  # Target variable\n"
   ]
  },
  {
   "cell_type": "markdown",
   "metadata": {},
   "source": [
    "2. **Calculate Mean**: Calculate the mean value of the target variable ('Energy Consumption (kWh)') using the `mean()` function from the pandas library.\n",
    "3. **Impute NaN Values**: Replace NaN values in the target variable with the calculated mean using the `fillna()` function from pandas. Set the `inplace` parameter to `True` to modify the DataFrame in place.\n",
    "4. **Display Updated Dataset**: Optionally, display the updated dataset to verify that NaN values have been successfully imputed with the mean.\n"
   ]
  },
  {
   "cell_type": "code",
   "execution_count": 22,
   "metadata": {},
   "outputs": [],
   "source": [
    "# Impute NaN values in the target variable with the mean\n",
    "mean_energy_consumption = df['Energy Consumption (kWh)'].mean()\n",
    "df['Energy Consumption (kWh)'].fillna(mean_energy_consumption, inplace=True)\n"
   ]
  },
  {
   "cell_type": "markdown",
   "metadata": {},
   "source": [
    "4. **Data Splitting**:\n",
    "-  The dataset is split into training and testing sets using the `train_test_split()` function from `sklearn.model_selection`.\n",
    "\n",
    " -  The testing set size is set to 20% of the total dataset, and a random seed of 42 is used for reproducibility."
   ]
  },
  {
   "cell_type": "code",
   "execution_count": 23,
   "metadata": {},
   "outputs": [],
   "source": [
    "\n",
    "# Splitting the data into training and testing sets\n",
    "X_train, X_test, y_train, y_test = train_test_split(X, y, test_size=0.2, random_state=42)\n"
   ]
  },
  {
   "cell_type": "markdown",
   "metadata": {},
   "source": [
    "5. **Model Initialization and Training**:\n",
    "-  A linear regression model is initialized using the `LinearRegression()` class from `sklearn.linear_model`, and then trained on the training data using the `fit()` method.\n"
   ]
  },
  {
   "cell_type": "code",
   "execution_count": 24,
   "metadata": {},
   "outputs": [
    {
     "data": {
      "text/html": [
       "<style>#sk-container-id-1 {color: black;background-color: white;}#sk-container-id-1 pre{padding: 0;}#sk-container-id-1 div.sk-toggleable {background-color: white;}#sk-container-id-1 label.sk-toggleable__label {cursor: pointer;display: block;width: 100%;margin-bottom: 0;padding: 0.3em;box-sizing: border-box;text-align: center;}#sk-container-id-1 label.sk-toggleable__label-arrow:before {content: \"▸\";float: left;margin-right: 0.25em;color: #696969;}#sk-container-id-1 label.sk-toggleable__label-arrow:hover:before {color: black;}#sk-container-id-1 div.sk-estimator:hover label.sk-toggleable__label-arrow:before {color: black;}#sk-container-id-1 div.sk-toggleable__content {max-height: 0;max-width: 0;overflow: hidden;text-align: left;background-color: #f0f8ff;}#sk-container-id-1 div.sk-toggleable__content pre {margin: 0.2em;color: black;border-radius: 0.25em;background-color: #f0f8ff;}#sk-container-id-1 input.sk-toggleable__control:checked~div.sk-toggleable__content {max-height: 200px;max-width: 100%;overflow: auto;}#sk-container-id-1 input.sk-toggleable__control:checked~label.sk-toggleable__label-arrow:before {content: \"▾\";}#sk-container-id-1 div.sk-estimator input.sk-toggleable__control:checked~label.sk-toggleable__label {background-color: #d4ebff;}#sk-container-id-1 div.sk-label input.sk-toggleable__control:checked~label.sk-toggleable__label {background-color: #d4ebff;}#sk-container-id-1 input.sk-hidden--visually {border: 0;clip: rect(1px 1px 1px 1px);clip: rect(1px, 1px, 1px, 1px);height: 1px;margin: -1px;overflow: hidden;padding: 0;position: absolute;width: 1px;}#sk-container-id-1 div.sk-estimator {font-family: monospace;background-color: #f0f8ff;border: 1px dotted black;border-radius: 0.25em;box-sizing: border-box;margin-bottom: 0.5em;}#sk-container-id-1 div.sk-estimator:hover {background-color: #d4ebff;}#sk-container-id-1 div.sk-parallel-item::after {content: \"\";width: 100%;border-bottom: 1px solid gray;flex-grow: 1;}#sk-container-id-1 div.sk-label:hover label.sk-toggleable__label {background-color: #d4ebff;}#sk-container-id-1 div.sk-serial::before {content: \"\";position: absolute;border-left: 1px solid gray;box-sizing: border-box;top: 0;bottom: 0;left: 50%;z-index: 0;}#sk-container-id-1 div.sk-serial {display: flex;flex-direction: column;align-items: center;background-color: white;padding-right: 0.2em;padding-left: 0.2em;position: relative;}#sk-container-id-1 div.sk-item {position: relative;z-index: 1;}#sk-container-id-1 div.sk-parallel {display: flex;align-items: stretch;justify-content: center;background-color: white;position: relative;}#sk-container-id-1 div.sk-item::before, #sk-container-id-1 div.sk-parallel-item::before {content: \"\";position: absolute;border-left: 1px solid gray;box-sizing: border-box;top: 0;bottom: 0;left: 50%;z-index: -1;}#sk-container-id-1 div.sk-parallel-item {display: flex;flex-direction: column;z-index: 1;position: relative;background-color: white;}#sk-container-id-1 div.sk-parallel-item:first-child::after {align-self: flex-end;width: 50%;}#sk-container-id-1 div.sk-parallel-item:last-child::after {align-self: flex-start;width: 50%;}#sk-container-id-1 div.sk-parallel-item:only-child::after {width: 0;}#sk-container-id-1 div.sk-dashed-wrapped {border: 1px dashed gray;margin: 0 0.4em 0.5em 0.4em;box-sizing: border-box;padding-bottom: 0.4em;background-color: white;}#sk-container-id-1 div.sk-label label {font-family: monospace;font-weight: bold;display: inline-block;line-height: 1.2em;}#sk-container-id-1 div.sk-label-container {text-align: center;}#sk-container-id-1 div.sk-container {/* jupyter's `normalize.less` sets `[hidden] { display: none; }` but bootstrap.min.css set `[hidden] { display: none !important; }` so we also need the `!important` here to be able to override the default hidden behavior on the sphinx rendered scikit-learn.org. See: https://github.com/scikit-learn/scikit-learn/issues/21755 */display: inline-block !important;position: relative;}#sk-container-id-1 div.sk-text-repr-fallback {display: none;}</style><div id=\"sk-container-id-1\" class=\"sk-top-container\"><div class=\"sk-text-repr-fallback\"><pre>LinearRegression()</pre><b>In a Jupyter environment, please rerun this cell to show the HTML representation or trust the notebook. <br />On GitHub, the HTML representation is unable to render, please try loading this page with nbviewer.org.</b></div><div class=\"sk-container\" hidden><div class=\"sk-item\"><div class=\"sk-estimator sk-toggleable\"><input class=\"sk-toggleable__control sk-hidden--visually\" id=\"sk-estimator-id-1\" type=\"checkbox\" checked><label for=\"sk-estimator-id-1\" class=\"sk-toggleable__label sk-toggleable__label-arrow\">LinearRegression</label><div class=\"sk-toggleable__content\"><pre>LinearRegression()</pre></div></div></div></div></div>"
      ],
      "text/plain": [
       "LinearRegression()"
      ]
     },
     "execution_count": 24,
     "metadata": {},
     "output_type": "execute_result"
    }
   ],
   "source": [
    "# Initializing and training the linear regression model\n",
    "model = LinearRegression()\n",
    "model.fit(X_train, y_train)"
   ]
  },
  {
   "cell_type": "markdown",
   "metadata": {},
   "source": [
    "6. **Making Predictions**:\n",
    "-  Predictions are made on both the training and testing sets using the trained model's `predict()` method.\n"
   ]
  },
  {
   "cell_type": "code",
   "execution_count": 26,
   "metadata": {},
   "outputs": [],
   "source": [
    "\n",
    "# Making predictions\n",
    "y_pred_train = model.predict(X_train)\n",
    "y_pred_test = model.predict(X_test)\n"
   ]
  },
  {
   "cell_type": "markdown",
   "metadata": {},
   "source": [
    "7. **Model Evaluation**:\n",
    "-  The mean squared error (MSE) and mean absolute error (MAE) are calculated to evaluate the performance of the model on both the training and testing sets using the `mean_squared_error()` and `mean_absolute_error()` functions from `sklearn.metrics`.\n"
   ]
  },
  {
   "cell_type": "code",
   "execution_count": 27,
   "metadata": {},
   "outputs": [],
   "source": [
    "\n",
    "# Evaluating the model\n",
    "mse_train = mean_squared_error(y_train, y_pred_train)\n",
    "mse_test = mean_squared_error(y_test, y_pred_test)\n",
    "mae_train = mean_absolute_error(y_train, y_pred_train)\n",
    "mae_test = mean_absolute_error(y_test, y_pred_test)"
   ]
  },
  {
   "cell_type": "markdown",
   "metadata": {},
   "source": [
    "8. **Printing Evaluation Metrics**: \n",
    "- The calculated MSE and MAE for both training and testing sets are printed to the console for analysis.\n"
   ]
  },
  {
   "cell_type": "code",
   "execution_count": 28,
   "metadata": {},
   "outputs": [
    {
     "name": "stdout",
     "output_type": "stream",
     "text": [
      "Training MSE: 97.07064487207533\n",
      "Testing MSE: 95.01444622559254\n",
      "Training MAE: 8.195468089792882\n",
      "Testing MAE: 7.876718217135026\n"
     ]
    }
   ],
   "source": [
    "# Print the evaluation metrics\n",
    "print(\"Training MSE:\", mse_train)\n",
    "print(\"Testing MSE:\", mse_test)\n",
    "print(\"Training MAE:\", mae_train)\n",
    "print(\"Testing MAE:\", mae_test)\n"
   ]
  },
  {
   "cell_type": "markdown",
   "metadata": {},
   "source": [
    "9. **Save Model**: \n",
    "- Finally, the trained model is saved as a .h5 file using the `joblib.dump()` function from the `joblib` library.\n"
   ]
  },
  {
   "cell_type": "code",
   "execution_count": 47,
   "metadata": {},
   "outputs": [
    {
     "data": {
      "text/plain": [
       "['model.h5']"
      ]
     },
     "execution_count": 47,
     "metadata": {},
     "output_type": "execute_result"
    }
   ],
   "source": [
    "import joblib\n",
    "# Save the model as a .h5 file\n",
    "joblib.dump(model, 'model.h5')"
   ]
  }
 ],
 "metadata": {
  "kernelspec": {
   "display_name": "Python 3",
   "language": "python",
   "name": "python3"
  },
  "language_info": {
   "codemirror_mode": {
    "name": "ipython",
    "version": 3
   },
   "file_extension": ".py",
   "mimetype": "text/x-python",
   "name": "python",
   "nbconvert_exporter": "python",
   "pygments_lexer": "ipython3",
   "version": "3.11.1"
  }
 },
 "nbformat": 4,
 "nbformat_minor": 2
}
