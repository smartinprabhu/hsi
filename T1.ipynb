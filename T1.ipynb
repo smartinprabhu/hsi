{
 "cells": [
  {
   "cell_type": "code",
   "execution_count": 37,
   "metadata": {},
   "outputs": [
    {
     "data": {
      "text/html": [
       "<div>\n",
       "<style scoped>\n",
       "    .dataframe tbody tr th:only-of-type {\n",
       "        vertical-align: middle;\n",
       "    }\n",
       "\n",
       "    .dataframe tbody tr th {\n",
       "        vertical-align: top;\n",
       "    }\n",
       "\n",
       "    .dataframe thead th {\n",
       "        text-align: right;\n",
       "    }\n",
       "</style>\n",
       "<table border=\"1\" class=\"dataframe\">\n",
       "  <thead>\n",
       "    <tr style=\"text-align: right;\">\n",
       "      <th></th>\n",
       "      <th>Equipment SNO</th>\n",
       "      <th>Asset Number</th>\n",
       "      <th>Reading Name</th>\n",
       "      <th>Answer Value</th>\n",
       "      <th>Timestamp</th>\n",
       "      <th>Is Error Set?</th>\n",
       "      <th>Asset</th>\n",
       "      <th>Company</th>\n",
       "    </tr>\n",
       "  </thead>\n",
       "  <tbody>\n",
       "    <tr>\n",
       "      <th>0</th>\n",
       "      <td>68B6B34180C8-3</td>\n",
       "      <td>FSCHN-E-00001</td>\n",
       "      <td>activeenergydla</td>\n",
       "      <td>76646.43</td>\n",
       "      <td>20/02/24 15:58</td>\n",
       "      <td>False</td>\n",
       "      <td>AHU DB</td>\n",
       "      <td>Chennai – Bayline</td>\n",
       "    </tr>\n",
       "    <tr>\n",
       "      <th>1</th>\n",
       "      <td>68B6B34180C8-3</td>\n",
       "      <td>FSCHN-E-00001</td>\n",
       "      <td>activeenergydla</td>\n",
       "      <td>76641.62</td>\n",
       "      <td>20/02/24 15:51</td>\n",
       "      <td>False</td>\n",
       "      <td>AHU DB</td>\n",
       "      <td>Chennai – Bayline</td>\n",
       "    </tr>\n",
       "    <tr>\n",
       "      <th>2</th>\n",
       "      <td>68B6B34180C8-3</td>\n",
       "      <td>FSCHN-E-00001</td>\n",
       "      <td>activeenergydla</td>\n",
       "      <td>76636.78</td>\n",
       "      <td>20/02/24 15:44</td>\n",
       "      <td>False</td>\n",
       "      <td>AHU DB</td>\n",
       "      <td>Chennai – Bayline</td>\n",
       "    </tr>\n",
       "    <tr>\n",
       "      <th>3</th>\n",
       "      <td>68B6B34180C8-3</td>\n",
       "      <td>FSCHN-E-00001</td>\n",
       "      <td>activeenergydla</td>\n",
       "      <td>76633.33</td>\n",
       "      <td>20/02/24 15:39</td>\n",
       "      <td>False</td>\n",
       "      <td>AHU DB</td>\n",
       "      <td>Chennai – Bayline</td>\n",
       "    </tr>\n",
       "    <tr>\n",
       "      <th>4</th>\n",
       "      <td>68B6B34180C8-3</td>\n",
       "      <td>FSCHN-E-00001</td>\n",
       "      <td>activeenergydla</td>\n",
       "      <td>76628.46</td>\n",
       "      <td>20/02/24 15:32</td>\n",
       "      <td>False</td>\n",
       "      <td>AHU DB</td>\n",
       "      <td>Chennai – Bayline</td>\n",
       "    </tr>\n",
       "  </tbody>\n",
       "</table>\n",
       "</div>"
      ],
      "text/plain": [
       "    Equipment SNO   Asset Number     Reading Name  Answer Value   \n",
       "0  68B6B34180C8-3  FSCHN-E-00001  activeenergydla      76646.43  \\\n",
       "1  68B6B34180C8-3  FSCHN-E-00001  activeenergydla      76641.62   \n",
       "2  68B6B34180C8-3  FSCHN-E-00001  activeenergydla      76636.78   \n",
       "3  68B6B34180C8-3  FSCHN-E-00001  activeenergydla      76633.33   \n",
       "4  68B6B34180C8-3  FSCHN-E-00001  activeenergydla      76628.46   \n",
       "\n",
       "        Timestamp  Is Error Set?   Asset            Company  \n",
       "0  20/02/24 15:58          False  AHU DB  Chennai – Bayline  \n",
       "1  20/02/24 15:51          False  AHU DB  Chennai – Bayline  \n",
       "2  20/02/24 15:44          False  AHU DB  Chennai – Bayline  \n",
       "3  20/02/24 15:39          False  AHU DB  Chennai – Bayline  \n",
       "4  20/02/24 15:32          False  AHU DB  Chennai – Bayline  "
      ]
     },
     "execution_count": 37,
     "metadata": {},
     "output_type": "execute_result"
    }
   ],
   "source": [
    "import pandas as pd\n",
    "from sklearn.preprocessing import MinMaxScaler\n",
    "\n",
    "# Load the dataset\n",
    "df= pd.read_csv(\"data.csv\")\n",
    "\n",
    "# Handling Missing Values\n",
    "df.dropna(inplace=True)\n",
    "df.head()"
   ]
  },
  {
   "cell_type": "code",
   "execution_count": 38,
   "metadata": {},
   "outputs": [
    {
     "name": "stderr",
     "output_type": "stream",
     "text": [
      "/var/folders/bp/6nr_cvms0_x4_qdd1ntdd17c0000gn/T/ipykernel_66006/2699403388.py:2: UserWarning: Could not infer format, so each element will be parsed individually, falling back to `dateutil`. To ensure parsing is consistent and as-expected, please specify a format.\n",
      "  df['Timestamp'] = pd.to_datetime(df['Timestamp'])\n"
     ]
    }
   ],
   "source": [
    "# Ensure 'Timestamp' column is in datetime format\n",
    "df['Timestamp'] = pd.to_datetime(df['Timestamp'])"
   ]
  },
  {
   "cell_type": "code",
   "execution_count": 39,
   "metadata": {},
   "outputs": [],
   "source": [
    "# Normalization\n",
    "scaler = MinMaxScaler()\n",
    "df_scaled = pd.DataFrame(scaler.fit_transform(df[['Answer Value']]), columns=['Answer Value'])\n"
   ]
  },
  {
   "cell_type": "code",
   "execution_count": 40,
   "metadata": {},
   "outputs": [
    {
     "name": "stdout",
     "output_type": "stream",
     "text": [
      "   Answer Value   Equipment SNO   Asset Number     Reading Name   \n",
      "0      1.000000  68B6B34180C8-3  FSCHN-E-00001  activeenergydla  \\\n",
      "1      0.999786  68B6B34180C8-3  FSCHN-E-00001  activeenergydla   \n",
      "2      0.999570  68B6B34180C8-3  FSCHN-E-00001  activeenergydla   \n",
      "3      0.999416  68B6B34180C8-3  FSCHN-E-00001  activeenergydla   \n",
      "4      0.999199  68B6B34180C8-3  FSCHN-E-00001  activeenergydla   \n",
      "\n",
      "            Timestamp  Is Error Set?   Asset            Company  \n",
      "0 2024-02-20 15:58:00          False  AHU DB  Chennai – Bayline  \n",
      "1 2024-02-20 15:51:00          False  AHU DB  Chennai – Bayline  \n",
      "2 2024-02-20 15:44:00          False  AHU DB  Chennai – Bayline  \n",
      "3 2024-02-20 15:39:00          False  AHU DB  Chennai – Bayline  \n",
      "4 2024-02-20 15:32:00          False  AHU DB  Chennai – Bayline  \n"
     ]
    }
   ],
   "source": [
    "# Combine scaled data with other columns\n",
    "df_scaled[['Equipment SNO', 'Asset Number', 'Reading Name', 'Timestamp', 'Is Error Set?', 'Asset', 'Company']] = df[['Equipment SNO', 'Asset Number', 'Reading Name', 'Timestamp', 'Is Error Set?', 'Asset', 'Company']]\n",
    "\n",
    "# Display the preprocessed data\n",
    "print(df_scaled.head())\n"
   ]
  },
  {
   "cell_type": "code",
   "execution_count": 41,
   "metadata": {},
   "outputs": [
    {
     "name": "stdout",
     "output_type": "stream",
     "text": [
      "   Answer Value   Equipment SNO   Asset Number     Reading Name   \n",
      "0      1.000000  68B6B34180C8-3  FSCHN-E-00001  activeenergydla  \\\n",
      "1      0.999786  68B6B34180C8-3  FSCHN-E-00001  activeenergydla   \n",
      "2      0.999570  68B6B34180C8-3  FSCHN-E-00001  activeenergydla   \n",
      "3      0.999416  68B6B34180C8-3  FSCHN-E-00001  activeenergydla   \n",
      "4      0.999199  68B6B34180C8-3  FSCHN-E-00001  activeenergydla   \n",
      "\n",
      "            Timestamp  Is Error Set?   Asset            Company  hour   \n",
      "0 2024-02-20 15:58:00          False  AHU DB  Chennai – Bayline    15  \\\n",
      "1 2024-02-20 15:51:00          False  AHU DB  Chennai – Bayline    15   \n",
      "2 2024-02-20 15:44:00          False  AHU DB  Chennai – Bayline    15   \n",
      "3 2024-02-20 15:39:00          False  AHU DB  Chennai – Bayline    15   \n",
      "4 2024-02-20 15:32:00          False  AHU DB  Chennai – Bayline    15   \n",
      "\n",
      "   day_of_week  month  is_weekend  is_sunday  is_weekday  \n",
      "0            1      2           0          0           1  \n",
      "1            1      2           0          0           1  \n",
      "2            1      2           0          0           1  \n",
      "3            1      2           0          0           1  \n",
      "4            1      2           0          0           1  \n"
     ]
    }
   ],
   "source": [
    "# Time-based features\n",
    "df_scaled['hour'] = df_scaled['Timestamp'].dt.hour\n",
    "df_scaled['day_of_week'] = df_scaled['Timestamp'].dt.dayofweek\n",
    "df_scaled['month'] = df_scaled['Timestamp'].dt.month\n",
    "\n",
    "# Event-based features\n",
    "df_scaled['is_weekend'] = df_scaled['day_of_week'].apply(lambda x: 1 if x >= 5 else 0)\n",
    "df_scaled['is_sunday'] = df_scaled['day_of_week'].apply(lambda x: 1 if x == 6 else 0)\n",
    "df_scaled['is_weekday'] = df_scaled['day_of_week'].apply(lambda x: 1 if x < 5 else 0)\n",
    "\n",
    "# Display the data with new features\n",
    "print(df_scaled.head())\n"
   ]
  },
  {
   "cell_type": "code",
   "execution_count": 45,
   "metadata": {},
   "outputs": [
    {
     "data": {
      "text/html": [
       "<style>#sk-container-id-3 {color: black;background-color: white;}#sk-container-id-3 pre{padding: 0;}#sk-container-id-3 div.sk-toggleable {background-color: white;}#sk-container-id-3 label.sk-toggleable__label {cursor: pointer;display: block;width: 100%;margin-bottom: 0;padding: 0.3em;box-sizing: border-box;text-align: center;}#sk-container-id-3 label.sk-toggleable__label-arrow:before {content: \"▸\";float: left;margin-right: 0.25em;color: #696969;}#sk-container-id-3 label.sk-toggleable__label-arrow:hover:before {color: black;}#sk-container-id-3 div.sk-estimator:hover label.sk-toggleable__label-arrow:before {color: black;}#sk-container-id-3 div.sk-toggleable__content {max-height: 0;max-width: 0;overflow: hidden;text-align: left;background-color: #f0f8ff;}#sk-container-id-3 div.sk-toggleable__content pre {margin: 0.2em;color: black;border-radius: 0.25em;background-color: #f0f8ff;}#sk-container-id-3 input.sk-toggleable__control:checked~div.sk-toggleable__content {max-height: 200px;max-width: 100%;overflow: auto;}#sk-container-id-3 input.sk-toggleable__control:checked~label.sk-toggleable__label-arrow:before {content: \"▾\";}#sk-container-id-3 div.sk-estimator input.sk-toggleable__control:checked~label.sk-toggleable__label {background-color: #d4ebff;}#sk-container-id-3 div.sk-label input.sk-toggleable__control:checked~label.sk-toggleable__label {background-color: #d4ebff;}#sk-container-id-3 input.sk-hidden--visually {border: 0;clip: rect(1px 1px 1px 1px);clip: rect(1px, 1px, 1px, 1px);height: 1px;margin: -1px;overflow: hidden;padding: 0;position: absolute;width: 1px;}#sk-container-id-3 div.sk-estimator {font-family: monospace;background-color: #f0f8ff;border: 1px dotted black;border-radius: 0.25em;box-sizing: border-box;margin-bottom: 0.5em;}#sk-container-id-3 div.sk-estimator:hover {background-color: #d4ebff;}#sk-container-id-3 div.sk-parallel-item::after {content: \"\";width: 100%;border-bottom: 1px solid gray;flex-grow: 1;}#sk-container-id-3 div.sk-label:hover label.sk-toggleable__label {background-color: #d4ebff;}#sk-container-id-3 div.sk-serial::before {content: \"\";position: absolute;border-left: 1px solid gray;box-sizing: border-box;top: 0;bottom: 0;left: 50%;z-index: 0;}#sk-container-id-3 div.sk-serial {display: flex;flex-direction: column;align-items: center;background-color: white;padding-right: 0.2em;padding-left: 0.2em;position: relative;}#sk-container-id-3 div.sk-item {position: relative;z-index: 1;}#sk-container-id-3 div.sk-parallel {display: flex;align-items: stretch;justify-content: center;background-color: white;position: relative;}#sk-container-id-3 div.sk-item::before, #sk-container-id-3 div.sk-parallel-item::before {content: \"\";position: absolute;border-left: 1px solid gray;box-sizing: border-box;top: 0;bottom: 0;left: 50%;z-index: -1;}#sk-container-id-3 div.sk-parallel-item {display: flex;flex-direction: column;z-index: 1;position: relative;background-color: white;}#sk-container-id-3 div.sk-parallel-item:first-child::after {align-self: flex-end;width: 50%;}#sk-container-id-3 div.sk-parallel-item:last-child::after {align-self: flex-start;width: 50%;}#sk-container-id-3 div.sk-parallel-item:only-child::after {width: 0;}#sk-container-id-3 div.sk-dashed-wrapped {border: 1px dashed gray;margin: 0 0.4em 0.5em 0.4em;box-sizing: border-box;padding-bottom: 0.4em;background-color: white;}#sk-container-id-3 div.sk-label label {font-family: monospace;font-weight: bold;display: inline-block;line-height: 1.2em;}#sk-container-id-3 div.sk-label-container {text-align: center;}#sk-container-id-3 div.sk-container {/* jupyter's `normalize.less` sets `[hidden] { display: none; }` but bootstrap.min.css set `[hidden] { display: none !important; }` so we also need the `!important` here to be able to override the default hidden behavior on the sphinx rendered scikit-learn.org. See: https://github.com/scikit-learn/scikit-learn/issues/21755 */display: inline-block !important;position: relative;}#sk-container-id-3 div.sk-text-repr-fallback {display: none;}</style><div id=\"sk-container-id-3\" class=\"sk-top-container\"><div class=\"sk-text-repr-fallback\"><pre>LinearRegression()</pre><b>In a Jupyter environment, please rerun this cell to show the HTML representation or trust the notebook. <br />On GitHub, the HTML representation is unable to render, please try loading this page with nbviewer.org.</b></div><div class=\"sk-container\" hidden><div class=\"sk-item\"><div class=\"sk-estimator sk-toggleable\"><input class=\"sk-toggleable__control sk-hidden--visually\" id=\"sk-estimator-id-3\" type=\"checkbox\" checked><label for=\"sk-estimator-id-3\" class=\"sk-toggleable__label sk-toggleable__label-arrow\">LinearRegression</label><div class=\"sk-toggleable__content\"><pre>LinearRegression()</pre></div></div></div></div></div>"
      ],
      "text/plain": [
       "LinearRegression()"
      ]
     },
     "execution_count": 45,
     "metadata": {},
     "output_type": "execute_result"
    }
   ],
   "source": [
    "from sklearn.model_selection import train_test_split\n",
    "from sklearn.linear_model import LinearRegression\n",
    "\n",
    "# Prepare features and target\n",
    "X = df_scaled[['hour', 'day_of_week', 'month', 'is_weekend', 'is_sunday', 'is_weekday']]\n",
    "y = df_scaled['Answer Value']\n",
    "\n",
    "# Split data into train and test sets\n",
    "X_train, X_test, y_train, y_test = train_test_split(X, y, test_size=0.2, random_state=42)\n",
    "\n",
    "# Initialize linear regression model\n",
    "model = LinearRegression()\n",
    "\n",
    "# Fit the model on training data\n",
    "model.fit(X_train, y_train)\n"
   ]
  },
  {
   "cell_type": "code",
   "execution_count": 43,
   "metadata": {},
   "outputs": [
    {
     "name": "stdout",
     "output_type": "stream",
     "text": [
      "Mean Absolute Error (MAE): 0.2461536706111882\n",
      "Root Mean Squared Error (RMSE): 0.28526935163350825\n"
     ]
    }
   ],
   "source": [
    "from sklearn.metrics import mean_absolute_error, mean_squared_error\n",
    "import numpy as np\n",
    "\n",
    "# Make predictions on test data\n",
    "y_pred = model.predict(X_test)\n",
    "\n",
    "# Calculate evaluation metrics\n",
    "mae = mean_absolute_error(y_test, y_pred)\n",
    "rmse = np.sqrt(mean_squared_error(y_test, y_pred))\n",
    "\n",
    "print(\"Mean Absolute Error (MAE):\", mae)\n",
    "print(\"Root Mean Squared Error (RMSE):\", rmse)\n"
   ]
  },
  {
   "cell_type": "code",
   "execution_count": 44,
   "metadata": {},
   "outputs": [
    {
     "name": "stdout",
     "output_type": "stream",
     "text": [
      "Model saved successfully!\n"
     ]
    }
   ],
   "source": [
    "import joblib\n",
    "\n",
    "# Save the model to disk\n",
    "joblib.dump(model, 'linear_regression_model.pkl')\n",
    "\n",
    "print(\"Model saved successfully!\")"
   ]
  }
 ],
 "metadata": {
  "kernelspec": {
   "display_name": "Python 3",
   "language": "python",
   "name": "python3"
  },
  "language_info": {
   "codemirror_mode": {
    "name": "ipython",
    "version": 3
   },
   "file_extension": ".py",
   "mimetype": "text/x-python",
   "name": "python",
   "nbconvert_exporter": "python",
   "pygments_lexer": "ipython3",
   "version": "3.11.1"
  }
 },
 "nbformat": 4,
 "nbformat_minor": 2
}
